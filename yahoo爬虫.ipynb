{
 "cells": [
  {
   "cell_type": "code",
   "id": "initial_id",
   "metadata": {
    "collapsed": true,
    "ExecuteTime": {
     "end_time": "2025-02-20T07:08:28.799869Z",
     "start_time": "2025-02-20T07:08:28.767155Z"
    }
   },
   "source": [
    "import yfinance as yf\n",
    "import os\n",
    "\n",
    "# 获取数据并清理索引\n",
    "fund_code = \"512890\"\n",
    "start_date = \"2020-01-01\"\n",
    "end_date = \"2025-02-18\"\n",
    "\n",
    "data = yf.download(\n",
    "    f\"{fund_code}.SS\",\n",
    "    start=start_date,\n",
    "    end=end_date\n",
    ")\n",
    "data.columns = data.columns.droplevel(level='Ticker')\n",
    "data = data.rename(columns={\n",
    "    'Open': '开盘价',\n",
    "    'High': '最高价',\n",
    "    'Low': '最低价',\n",
    "    'Close': '收盘价',\n",
    "    'Volume': '成交量'\n",
    "})"
   ],
   "outputs": [
    {
     "name": "stderr",
     "output_type": "stream",
     "text": [
      "[*********************100%***********************]  1 of 1 completed\n"
     ]
    }
   ],
   "execution_count": 47
  },
  {
   "metadata": {
    "ExecuteTime": {
     "end_time": "2025-02-20T07:09:36.003661Z",
     "start_time": "2025-02-20T07:09:35.918859Z"
    }
   },
   "cell_type": "code",
   "source": [
    "# 保存为Excel（无索引列）\n",
    "save_path = r\"C:\\Users\\vincent.fei\\Downloads\"  # ← 自定义路径示例\n",
    "file_name = f\"fund_{fund_code}_{start_date}_{end_date}_yahoo.xlsx\"\n",
    "full_path = os.path.join(save_path, file_name)\n",
    "\n",
    "data.to_excel(\n",
    "    full_path,\n",
    "    index=False,  # 不保存索引\n",
    "    engine='openpyxl'\n",
    ")\n",
    "\n",
    "print(\"生成文件内容预览：\")\n",
    "print(data.head(3))"
   ],
   "id": "d89639d354e34718",
   "outputs": [
    {
     "name": "stdout",
     "output_type": "stream",
     "text": [
      "生成文件内容预览：\n",
      "Price          收盘价     最高价     最低价     开盘价       成交量\n",
      "Date                                                \n",
      "2020-01-02  0.6140  0.6170  0.6025  0.6025  15377000\n",
      "2020-01-03  0.6115  0.6135  0.6105  0.6135  14113600\n",
      "2020-01-06  0.6110  0.6160  0.6090  0.6135  24264200\n"
     ]
    }
   ],
   "execution_count": 48
  },
  {
   "metadata": {
    "ExecuteTime": {
     "end_time": "2025-02-20T07:09:58.179093Z",
     "start_time": "2025-02-20T07:09:58.158159Z"
    }
   },
   "cell_type": "code",
   "source": [
    "# 定义本金\n",
    "principal = 1000\n",
    "\n",
    "# 定义每周定投函数\n",
    "def simulate_investment(values_daily, frequency):\n",
    "    # 按周重采样并取每周最后一个交易日的数据\n",
    "    weekly_data = values_daily.resample(frequency).last().dropna()\n",
    "    # 计算购买份额\n",
    "    weekly_data['购买份额'] = principal / weekly_data['收盘价']\n",
    "    # 计算总份额\n",
    "    total_shares = weekly_data['购买份额'].sum()\n",
    "    # 计算最终资产价值\n",
    "    final_value = total_shares * weekly_data['收盘价'].iloc[-1]\n",
    "    # 计算投资期（年）\n",
    "    years = (weekly_data.index[-1] - weekly_data.index[0]).days / 365\n",
    "    # 计算年化收益率\n",
    "    if years == 0:\n",
    "        annual_return = 0\n",
    "    else:\n",
    "        annual_return = (final_value / (principal * len(weekly_data))) ** (1 / years) - 1\n",
    "    return annual_return\n",
    "\n",
    "\n",
    "# 计算每周定投的年化收益率\n",
    "weekly_return = simulate_investment(data, 'W')\n",
    "# 计算每半月定投的年化收益率\n",
    "biweekly_return = simulate_investment(data, 'SME')\n",
    "# 计算每月定投的年化收益率\n",
    "monthly_return = simulate_investment(data, 'ME')\n",
    "\n",
    "# 输出结果\n",
    "print(f'每周定投的年化收益率：{weekly_return * 100:.2f}%')\n",
    "print(f'每半月定投的年化收益率：{biweekly_return * 100:.2f}%')\n",
    "print(f'每月定投的年化收益率：{monthly_return * 100:.2f}%')"
   ],
   "id": "a257f5a0f643393c",
   "outputs": [
    {
     "name": "stdout",
     "output_type": "stream",
     "text": [
      "每周定投的年化收益率：6.12%\n",
      "每半月定投的年化收益率：6.12%\n",
      "每月定投的年化收益率：6.16%\n"
     ]
    }
   ],
   "execution_count": 49
  }
 ],
 "metadata": {
  "kernelspec": {
   "display_name": "Python 3",
   "language": "python",
   "name": "python3"
  },
  "language_info": {
   "codemirror_mode": {
    "name": "ipython",
    "version": 2
   },
   "file_extension": ".py",
   "mimetype": "text/x-python",
   "name": "python",
   "nbconvert_exporter": "python",
   "pygments_lexer": "ipython2",
   "version": "2.7.6"
  }
 },
 "nbformat": 4,
 "nbformat_minor": 5
}
